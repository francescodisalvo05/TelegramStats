{
 "cells": [
  {
   "cell_type": "markdown",
   "metadata": {},
   "source": [
    "# TelegramStats\n",
    "\n",
    "Today I'm going to analyze my **telegram conversations** with my girlfriend. For collecting your own data you have to go to the chat that you want to analyze, then click on the option panel and finally click on *export chat history*! For obvious reasons I won't insert the JSON file, but you can use yours with the previous explanation. <br /> <br />\n",
    "\n",
    "This time I won't ask any particular questions, but I'll go trough the analysis as I feel. So, let's begin! Firsty need to look something about the **JSON** file: "
   ]
  },
  {
   "cell_type": "code",
   "execution_count": null,
   "metadata": {},
   "outputs": [],
   "source": [
    "{\n",
    " \"name\": #chat_name,\n",
    " \"type\": \"personal_chat\",\n",
    " \"id\": #id,\n",
    " \"messages\": [\n",
    "  {\n",
    "   \"id\": #\n",
    "   \"type\": #\n",
    "   \"date\": #\n",
    "   \"from\": #\n",
    "   \"from_id\": #,\n",
    "   \"text\": #\n",
    "  },\n",
    "     ...\n",
    " ]\n",
    "}"
   ]
  },
  {
   "cell_type": "markdown",
   "metadata": {},
   "source": [
    "My **telegram id** is \"129347830\", and my girlfriend is \"923502798\""
   ]
  },
  {
   "cell_type": "markdown",
   "metadata": {},
   "source": [
    "Sencondly, we have to add the **libraries** that we'll use soon"
   ]
  },
  {
   "cell_type": "code",
   "execution_count": 1,
   "metadata": {},
   "outputs": [],
   "source": [
    "import numpy as np\n",
    "import pandas as pd\n",
    "import json\n",
    "\n",
    "import matplotlib.pyplot as plt\n",
    "from matplotlib import cm\n",
    "import seaborn as sns\n",
    "\n",
    "from datetime import datetime"
   ]
  },
  {
   "cell_type": "markdown",
   "metadata": {},
   "source": [
    "Thirdly, we have to create the **dataframe** by the **JSON** file"
   ]
  },
  {
   "cell_type": "code",
   "execution_count": 2,
   "metadata": {},
   "outputs": [
    {
     "data": {
      "text/html": [
       "<div>\n",
       "<style scoped>\n",
       "    .dataframe tbody tr th:only-of-type {\n",
       "        vertical-align: middle;\n",
       "    }\n",
       "\n",
       "    .dataframe tbody tr th {\n",
       "        vertical-align: top;\n",
       "    }\n",
       "\n",
       "    .dataframe thead th {\n",
       "        text-align: right;\n",
       "    }\n",
       "</style>\n",
       "<table border=\"1\" class=\"dataframe\">\n",
       "  <thead>\n",
       "    <tr style=\"text-align: right;\">\n",
       "      <th></th>\n",
       "      <th>name</th>\n",
       "      <th>type</th>\n",
       "      <th>id</th>\n",
       "      <th>messages</th>\n",
       "    </tr>\n",
       "  </thead>\n",
       "  <tbody>\n",
       "    <tr>\n",
       "      <th>0</th>\n",
       "      <td>Elena</td>\n",
       "      <td>personal_chat</td>\n",
       "      <td>5218470094</td>\n",
       "      <td>{'id': 193489, 'type': 'service', 'date': '201...</td>\n",
       "    </tr>\n",
       "  </tbody>\n",
       "</table>\n",
       "</div>"
      ],
      "text/plain": [
       "    name           type          id  \\\n",
       "0  Elena  personal_chat  5218470094   \n",
       "\n",
       "                                            messages  \n",
       "0  {'id': 193489, 'type': 'service', 'date': '201...  "
      ]
     },
     "execution_count": 2,
     "metadata": {},
     "output_type": "execute_result"
    }
   ],
   "source": [
    "df = pd.read_json(\"ChatExport_2020-09-03/result.json\")\n",
    "df.head(1)"
   ]
  },
  {
   "cell_type": "markdown",
   "metadata": {},
   "source": [
    "We need just the \"messages\" column, so we can do as following"
   ]
  },
  {
   "cell_type": "code",
   "execution_count": 3,
   "metadata": {},
   "outputs": [
    {
     "data": {
      "text/plain": [
       "0    {'id': 193489, 'type': 'service', 'date': '201...\n",
       "1    {'id': 193491, 'type': 'message', 'date': '201...\n",
       "2    {'id': 193492, 'type': 'message', 'date': '201...\n",
       "Name: messages, dtype: object"
      ]
     },
     "execution_count": 3,
     "metadata": {},
     "output_type": "execute_result"
    }
   ],
   "source": [
    "df = df[\"messages\"]\n",
    "df.head(3)"
   ]
  },
  {
   "cell_type": "markdown",
   "metadata": {},
   "source": [
    "### Number of messages\n",
    "The first thing that I'd like to know is who sent more messages between us. Since there are some records without \"from_id\" but with \"action_id\" (e.g. voice call) we have to handle the KeyErr with a try catch. When we find this kind of error we can just \"continue\" and skip this cycle. "
   ]
  },
  {
   "cell_type": "code",
   "execution_count": 4,
   "metadata": {},
   "outputs": [],
   "source": [
    "# I'm the first one and she's the second one (\"id\" : value)\n",
    "count_message = {\"129347830\" : 0, \"923502798\" : 0}\n",
    "\n",
    "for i in range(0,df.size):\n",
    "    try: \n",
    "        count_message[str(df[i][\"from_id\"])]+= 1\n",
    "    except KeyError:\n",
    "        continue"
   ]
  },
  {
   "cell_type": "code",
   "execution_count": 5,
   "metadata": {},
   "outputs": [
    {
     "data": {
      "text/plain": [
       "<BarContainer object of 2 artists>"
      ]
     },
     "execution_count": 5,
     "metadata": {},
     "output_type": "execute_result"
    },
    {
     "data": {
      "image/png": "[encoded data removed]",
      "text/plain": [
       "<Figure size 432x288 with 1 Axes>"
      ]
     },
     "metadata": {
      "needs_background": "light"
     },
     "output_type": "display_data"
    }
   ],
   "source": [
    "index = [\"ME\", \"SHE\"]     \n",
    "values = [count_message[\"129347830\"],count_message[\"923502798\"]]\n",
    "plt.bar(index, values,color=[\"#0000E5\",\"#CC0000\"])"
   ]
  },
  {
   "cell_type": "markdown",
   "metadata": {},
   "source": [
    "It seems that I'm a **stalker**! "
   ]
  },
  {
   "cell_type": "markdown",
   "metadata": {},
   "source": [
    "### Most common daytime\n",
    "Now I'd like to discover when we mostly talk during the the day. For semplicity I'll divide the day in 4 blocks of 6 hours each: <br />\n",
    "- **morning** : from 6.00am to 11.59am\n",
    "- **afternoon** : from 12.00pm to 5.59pm\n",
    "- **eveneng** : from 6.00pm to 11.59am\n",
    "- **night** : from 12.00am to 5.59am <br />\n",
    "\n",
    "We can follow the previus method. We need to change just the for construct. Before we start, let's check how to get the date."
   ]
  },
  {
   "cell_type": "code",
   "execution_count": 6,
   "metadata": {},
   "outputs": [
    {
     "data": {
      "text/plain": [
       "'2019-08-13T15:32:33'"
      ]
     },
     "execution_count": 6,
     "metadata": {},
     "output_type": "execute_result"
    }
   ],
   "source": [
    "df[0][\"date\"]"
   ]
  },
  {
   "cell_type": "markdown",
   "metadata": {},
   "source": [
    "So we need to get from the 11th character to the latter"
   ]
  },
  {
   "cell_type": "code",
   "execution_count": 7,
   "metadata": {},
   "outputs": [
    {
     "data": {
      "text/plain": [
       "{'morning': 15401, 'afternoon': 23942, 'eveneng': 25626, 'night': 2639}"
      ]
     },
     "execution_count": 7,
     "metadata": {},
     "output_type": "execute_result"
    }
   ],
   "source": [
    "count_message_daytime = {\"morning\" : 0, \"afternoon\" : 0, \"eveneng\" : 0, \"night\" : 0}\n",
    "\n",
    "# boundary\n",
    "morning_l = datetime.strptime('06:00:00', '%H:%M:%S')\n",
    "morning_m = datetime.strptime('11:59:59', '%H:%M:%S')\n",
    "afternoon_l = datetime.strptime('12:00:00', '%H:%M:%S')\n",
    "afternoon_m = datetime.strptime('17:59:59', '%H:%M:%S')\n",
    "eveneng_l = datetime.strptime('18:00:00', '%H:%M:%S')\n",
    "eveneng_m = datetime.strptime('23:59:59', '%H:%M:%S')\n",
    "night_l = datetime.strptime('00:00:00', '%H:%M:%S')\n",
    "night_m = datetime.strptime('5:59:59', '%H:%M:%S')\n",
    "\n",
    "for i in range(0,df.size):\n",
    "    time = df[i][\"date\"][11:]\n",
    "    time = datetime.strptime(time, '%H:%M:%S')\n",
    "    if ( morning_l <= time <= morning_m):\n",
    "        count_message_daytime[\"morning\"] += 1\n",
    "    elif ( afternoon_l <= time <= afternoon_m):\n",
    "        count_message_daytime[\"afternoon\"] += 1\n",
    "    elif ( eveneng_l <= time <= eveneng_m):\n",
    "        count_message_daytime[\"eveneng\"] += 1\n",
    "    elif ( night_l <= time <= night_m):\n",
    "        count_message_daytime[\"night\"] += 1\n",
    "    \n",
    "count_message_daytime"
   ]
  },
  {
   "cell_type": "code",
   "execution_count": 8,
   "metadata": {},
   "outputs": [
    {
     "data": {
      "text/plain": [
       "<BarContainer object of 4 artists>"
      ]
     },
     "execution_count": 8,
     "metadata": {},
     "output_type": "execute_result"
    },
    {
     "data": {
      "image/png": "[encoded data removed]",
      "text/plain": [
       "<Figure size 432x288 with 1 Axes>"
      ]
     },
     "metadata": {
      "needs_background": "light"
     },
     "output_type": "display_data"
    }
   ],
   "source": [
    "index = [\"Morning\", \"Afternoon\", \"Evening\", \"Night\"]     \n",
    "values = [ count_message_daytime[\"morning\"], \n",
    "           count_message_daytime[\"afternoon\"], \n",
    "           count_message_daytime[\"eveneng\"], \n",
    "           count_message_daytime[\"night\"]\n",
    "         ]\n",
    "colors=[\"#236e96\", \"#15b2d3\", \"#ffd700\", \"#f3872f\"]\n",
    "plt.bar(index, values, color=colors)"
   ]
  },
  {
   "cell_type": "markdown",
   "metadata": {},
   "source": [
    "### Text length and audio duration\n",
    "Let's discover who is the talkative of the couple! The procedure is similar to the previous ones"
   ]
  },
  {
   "cell_type": "code",
   "execution_count": 43,
   "metadata": {},
   "outputs": [
    {
     "name": "stdout",
     "output_type": "stream",
     "text": [
      "{'length_message': 628109, 'number_message': 29175, 'length_audio': 45490, 'number_audio': 3079}\n",
      "{'length_message': 524535, 'number_message': 24985, 'length_audio': 94651, 'number_audio': 6491}\n"
     ]
    }
   ],
   "source": [
    "me = {\"length_message\" : 0, \"number_message\" : 0, \"length_audio\" : 0, \"number_audio\" : 0}\n",
    "she = {\"length_message\" : 0, \"number_message\" : 0, \"length_audio\" : 0, \"number_audio\" : 0}\n",
    "\n",
    "#me = \"129347830\" | she =  \"923502798\" \n",
    "\n",
    "for i in range(0,df.size):\n",
    "    try: \n",
    "        if (df[i][\"from_id\"] == 129347830):\n",
    "            me[\"length_audio\"] += df[i][\"duration_seconds\"]\n",
    "            me[\"number_audio\"] += 1\n",
    "        else: \n",
    "            she[\"length_audio\"] += df[i][\"duration_seconds\"]\n",
    "            she[\"number_audio\"] += 1\n",
    "    except KeyError:\n",
    "        # duration_seconds is not present, so it's a message\n",
    "        try: \n",
    "            if (df[i][\"from_id\"] == 129347830 and len(df[i][\"text\"]) > 0):\n",
    "                me[\"length_message\"] += len(df[i][\"text\"])\n",
    "                me[\"number_message\"] += 1\n",
    "            elif (len(df[i][\"text\"]) > 0): \n",
    "                she[\"length_message\"] += len(df[i][\"text\"])\n",
    "                she[\"number_message\"] += 1\n",
    "        except KeyError:\n",
    "            continue\n",
    "    \n",
    "\n",
    "print(me)\n",
    "print(she)"
   ]
  },
  {
   "cell_type": "code",
   "execution_count": 60,
   "metadata": {},
   "outputs": [
    {
     "name": "stdout",
     "output_type": "stream",
     "text": [
      "[21.529014567266497, 20.993996397838703]\n",
      "[14.774277362780124, 14.58188260668618]\n"
     ]
    }
   ],
   "source": [
    "index = [\"ME\", \"SHE\"]\n",
    "value_m = [ me[\"length_message\"]/me[\"number_message\"], she[\"length_message\"]/she[\"number_message\"] ]\n",
    "value_a = [ me[\"length_audio\"]/me[\"number_audio\"], she[\"length_audio\"]/she[\"number_audio\"] ]\n",
    "print(value_m)\n",
    "print(value_a)"
   ]
  },
  {
   "cell_type": "code",
   "execution_count": 66,
   "metadata": {},
   "outputs": [
    {
     "data": {
      "text/plain": [
       "Text(0.5, 1.0, 'average audio length')"
      ]
     },
     "execution_count": 66,
     "metadata": {},
     "output_type": "execute_result"
    },
    {
     "data": {
      "image/png": "[encoded data removed]",
      "text/plain": [
       "<Figure size 1080x288 with 2 Axes>"
      ]
     },
     "metadata": {
      "needs_background": "light"
     },
     "output_type": "display_data"
    }
   ],
   "source": [
    "fig, (ax1, ax2) = plt.subplots(1, 2,figsize=(15,4))\n",
    "\n",
    "ax1.barh(index, value_m,color=[\"#0000E5\",\"#CC0000\"])\n",
    "ax1.set_title(\"average messages length\")\n",
    "ax2.barh(index, value_a,color=[\"#0000E5\",\"#CC0000\"])\n",
    "ax2.set_title(\"average audio length\")"
   ]
  },
  {
   "cell_type": "markdown",
   "metadata": {},
   "source": [
    "I'll finish, I promise!"
   ]
  },
  {
   "cell_type": "code",
   "execution_count": null,
   "metadata": {},
   "outputs": [],
   "source": []
  }
 ],
 "metadata": {
  "kernelspec": {
   "display_name": "Python 3",
   "language": "python",
   "name": "python3"
  },
  "language_info": {
   "codemirror_mode": {
    "name": "ipython",
    "version": 3
   },
   "file_extension": ".py",
   "mimetype": "text/x-python",
   "name": "python",
   "nbconvert_exporter": "python",
   "pygments_lexer": "ipython3",
   "version": "3.8.3"
  }
 },
 "nbformat": 4,
 "nbformat_minor": 4
}
