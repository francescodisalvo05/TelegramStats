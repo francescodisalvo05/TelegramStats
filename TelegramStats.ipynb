{
 "cells": [
  {
   "cell_type": "markdown",
   "metadata": {},
   "source": [
    "# TelegramStats\n",
    "\n",
    "Today I'm going to analyze my **telegram conversations** with my girlfriend. For collecting your own data you have to go to the chat that you want to analyze, then click on the option panel and finally click on *export chat history*! For obvious reasons I won't insert the JSON file, but you can use yours with the previous explanation. <br /> <br />\n",
    "\n",
    "This time I won't ask any particular questions, but I'll go trough the analysis as I feel. So, let's begin! Firsty need to look something about the **JSON** file: "
   ]
  },
  {
   "cell_type": "code",
   "execution_count": null,
   "metadata": {},
   "outputs": [],
   "source": [
    "{\n",
    " \"name\": #chat_name,\n",
    " \"type\": \"personal_chat\",\n",
    " \"id\": #id,\n",
    " \"messages\": [\n",
    "  {\n",
    "   \"id\": #\n",
    "   \"type\": #\n",
    "   \"date\": #\n",
    "   \"from\": #\n",
    "   \"from_id\": #,\n",
    "   \"text\": #\n",
    "  },\n",
    "     ...\n",
    " ]\n",
    "}"
   ]
  },
  {
   "cell_type": "markdown",
   "metadata": {},
   "source": [
    "My **telegram id** is \"129347830\", and my girlfriend is \"923502798\""
   ]
  },
  {
   "cell_type": "markdown",
   "metadata": {},
   "source": [
    "Sencondly, we have to add the **libraries** that we'll use soon"
   ]
  },
  {
   "cell_type": "code",
   "execution_count": 63,
   "metadata": {},
   "outputs": [],
   "source": [
    "import numpy as np\n",
    "import pandas as pd\n",
    "import json\n",
    "\n",
    "import matplotlib.pyplot as plt\n",
    "from matplotlib import cm\n",
    "import seaborn as sns"
   ]
  },
  {
   "cell_type": "markdown",
   "metadata": {},
   "source": [
    "Thirdly, we have to create the **dataframe** by the **JSON** file"
   ]
  },
  {
   "cell_type": "code",
   "execution_count": 99,
   "metadata": {},
   "outputs": [
    {
     "data": {
      "text/html": [
       "<div>\n",
       "<style scoped>\n",
       "    .dataframe tbody tr th:only-of-type {\n",
       "        vertical-align: middle;\n",
       "    }\n",
       "\n",
       "    .dataframe tbody tr th {\n",
       "        vertical-align: top;\n",
       "    }\n",
       "\n",
       "    .dataframe thead th {\n",
       "        text-align: right;\n",
       "    }\n",
       "</style>\n",
       "<table border=\"1\" class=\"dataframe\">\n",
       "  <thead>\n",
       "    <tr style=\"text-align: right;\">\n",
       "      <th></th>\n",
       "      <th>name</th>\n",
       "      <th>type</th>\n",
       "      <th>id</th>\n",
       "      <th>messages</th>\n",
       "    </tr>\n",
       "  </thead>\n",
       "  <tbody>\n",
       "    <tr>\n",
       "      <th>0</th>\n",
       "      <td>Elena</td>\n",
       "      <td>personal_chat</td>\n",
       "      <td>5218470094</td>\n",
       "      <td>{'id': 193491, 'type': 'message', 'date': '201...</td>\n",
       "    </tr>\n",
       "  </tbody>\n",
       "</table>\n",
       "</div>"
      ],
      "text/plain": [
       "    name           type          id  \\\n",
       "0  Elena  personal_chat  5218470094   \n",
       "\n",
       "                                            messages  \n",
       "0  {'id': 193491, 'type': 'message', 'date': '201...  "
      ]
     },
     "execution_count": 99,
     "metadata": {},
     "output_type": "execute_result"
    }
   ],
   "source": [
    "df = pd.read_json(\"ChatExport_2020-09-03/result.json\")\n",
    "df.head(1)"
   ]
  },
  {
   "cell_type": "markdown",
   "metadata": {},
   "source": [
    "We need just the \"messages\" column, so we can do as following"
   ]
  },
  {
   "cell_type": "code",
   "execution_count": 100,
   "metadata": {},
   "outputs": [
    {
     "data": {
      "text/plain": [
       "0    {'id': 193491, 'type': 'message', 'date': '201...\n",
       "1    {'id': 193492, 'type': 'message', 'date': '201...\n",
       "2    {'id': 193493, 'type': 'message', 'date': '201...\n",
       "Name: messages, dtype: object"
      ]
     },
     "execution_count": 100,
     "metadata": {},
     "output_type": "execute_result"
    }
   ],
   "source": [
    "df = df[\"messages\"]\n",
    "df.head(3)"
   ]
  },
  {
   "cell_type": "markdown",
   "metadata": {},
   "source": [
    "Since there are some records without \"from_id\" but with \"action_id\" (e.g. voice call) we have to handle the KeyErr with a try catch. When we find this kind of error we can just \"continue\" and skip this cycle. "
   ]
  },
  {
   "cell_type": "code",
   "execution_count": 275,
   "metadata": {},
   "outputs": [],
   "source": [
    "# I'm the first one and she's the second one\n",
    "count_message = {\"129347830\" : 0, \"923502798\" : 0}\n",
    "\n",
    "for i in range(0,df.size):\n",
    "    try: \n",
    "        count_message[str(df[i][\"from_id\"])]+= 1\n",
    "    except KeyError:\n",
    "        continue"
   ]
  },
  {
   "cell_type": "code",
   "execution_count": 293,
   "metadata": {},
   "outputs": [
    {
     "data": {
      "text/plain": [
       "<BarContainer object of 2 artists>"
      ]
     },
     "execution_count": 293,
     "metadata": {},
     "output_type": "execute_result"
    },
    {
     "data": {
      "image/png": "[encoded data removed]",
      "text/plain": [
       "<Figure size 432x288 with 1 Axes>"
      ]
     },
     "metadata": {
      "needs_background": "light"
     },
     "output_type": "display_data"
    }
   ],
   "source": [
    "index = [\"me\", \"she\"]     \n",
    "values = [count_message[\"129347830\"],count_message[\"923502798\"]]\n",
    "plt.bar(index, values,color=[\"#0000E5\",\"#CC0000\"])"
   ]
  },
  {
   "cell_type": "code",
   "execution_count": null,
   "metadata": {},
   "outputs": [],
   "source": []
  }
 ],
 "metadata": {
  "kernelspec": {
   "display_name": "Python 3",
   "language": "python",
   "name": "python3"
  },
  "language_info": {
   "codemirror_mode": {
    "name": "ipython",
    "version": 3
   },
   "file_extension": ".py",
   "mimetype": "text/x-python",
   "name": "python",
   "nbconvert_exporter": "python",
   "pygments_lexer": "ipython3",
   "version": "3.8.3"
  }
 },
 "nbformat": 4,
 "nbformat_minor": 4
}
